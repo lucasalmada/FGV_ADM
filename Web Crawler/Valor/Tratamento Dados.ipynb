{
 "cells": [
  {
   "cell_type": "code",
   "execution_count": 1,
   "metadata": {
    "ExecuteTime": {
     "end_time": "2019-10-31T20:28:48.601355Z",
     "start_time": "2019-10-31T20:28:46.747584Z"
    }
   },
   "outputs": [],
   "source": [
    "import pandas as pd"
   ]
  },
  {
   "cell_type": "code",
   "execution_count": 2,
   "metadata": {
    "ExecuteTime": {
     "end_time": "2019-10-31T20:29:59.281987Z",
     "start_time": "2019-10-31T20:29:58.012518Z"
    }
   },
   "outputs": [],
   "source": [
    "df = pd.read_hdf('Valor_200pag.hdf', key = 'hdf')"
   ]
  },
  {
   "cell_type": "code",
   "execution_count": 3,
   "metadata": {
    "ExecuteTime": {
     "end_time": "2019-10-31T20:30:01.608532Z",
     "start_time": "2019-10-31T20:30:01.566556Z"
    }
   },
   "outputs": [
    {
     "data": {
      "text/html": [
       "<div>\n",
       "<style scoped>\n",
       "    .dataframe tbody tr th:only-of-type {\n",
       "        vertical-align: middle;\n",
       "    }\n",
       "\n",
       "    .dataframe tbody tr th {\n",
       "        vertical-align: top;\n",
       "    }\n",
       "\n",
       "    .dataframe thead th {\n",
       "        text-align: right;\n",
       "    }\n",
       "</style>\n",
       "<table border=\"1\" class=\"dataframe\">\n",
       "  <thead>\n",
       "    <tr style=\"text-align: right;\">\n",
       "      <th></th>\n",
       "      <th>0</th>\n",
       "      <th>1</th>\n",
       "      <th>2</th>\n",
       "    </tr>\n",
       "  </thead>\n",
       "  <tbody>\n",
       "    <tr>\n",
       "      <th>0</th>\n",
       "      <td>há 2 horas</td>\n",
       "      <td>Spreads ficarão sob pressão no Brasil, diz vic...</td>\n",
       "      <td>O vice-presidente financeiro do Santander, Ang...</td>\n",
       "    </tr>\n",
       "    <tr>\n",
       "      <th>1</th>\n",
       "      <td>há 6 horas</td>\n",
       "      <td>IGP-M tem alta de 0,68% em outubro, mostra FGV</td>\n",
       "      <td>A inflação medida pelo Índice Geral de Preços ...</td>\n",
       "    </tr>\n",
       "    <tr>\n",
       "      <th>2</th>\n",
       "      <td>há 10 horas</td>\n",
       "      <td>Incertezas do acidente com óleo no Nordeste</td>\n",
       "      <td>Em setembro, o Nordeste brasileiro começou a s...</td>\n",
       "    </tr>\n",
       "    <tr>\n",
       "      <th>3</th>\n",
       "      <td>há 10 horas</td>\n",
       "      <td>Huawei deve baixar celular de nova geração a U...</td>\n",
       "      <td>Entrar\\nAssinar</td>\n",
       "    </tr>\n",
       "    <tr>\n",
       "      <th>4</th>\n",
       "      <td>há 10 horas</td>\n",
       "      <td>Dona da Penalty faz ajustes e reduz dívida</td>\n",
       "      <td>Entrar\\nAssinar</td>\n",
       "    </tr>\n",
       "  </tbody>\n",
       "</table>\n",
       "</div>"
      ],
      "text/plain": [
       "             0                                                  1  \\\n",
       "0   há 2 horas  Spreads ficarão sob pressão no Brasil, diz vic...   \n",
       "1   há 6 horas     IGP-M tem alta de 0,68% em outubro, mostra FGV   \n",
       "2  há 10 horas        Incertezas do acidente com óleo no Nordeste   \n",
       "3  há 10 horas  Huawei deve baixar celular de nova geração a U...   \n",
       "4  há 10 horas         Dona da Penalty faz ajustes e reduz dívida   \n",
       "\n",
       "                                                   2  \n",
       "0  O vice-presidente financeiro do Santander, Ang...  \n",
       "1  A inflação medida pelo Índice Geral de Preços ...  \n",
       "2  Em setembro, o Nordeste brasileiro começou a s...  \n",
       "3                                    Entrar\\nAssinar  \n",
       "4                                    Entrar\\nAssinar  "
      ]
     },
     "execution_count": 3,
     "metadata": {},
     "output_type": "execute_result"
    }
   ],
   "source": [
    "df.head()"
   ]
  },
  {
   "cell_type": "code",
   "execution_count": null,
   "metadata": {},
   "outputs": [],
   "source": []
  }
 ],
 "metadata": {
  "hide_input": false,
  "kernelspec": {
   "display_name": "Python 3",
   "language": "python",
   "name": "python3"
  },
  "language_info": {
   "codemirror_mode": {
    "name": "ipython",
    "version": 3
   },
   "file_extension": ".py",
   "mimetype": "text/x-python",
   "name": "python",
   "nbconvert_exporter": "python",
   "pygments_lexer": "ipython3",
   "version": "3.7.3"
  },
  "toc": {
   "base_numbering": 1,
   "nav_menu": {},
   "number_sections": true,
   "sideBar": true,
   "skip_h1_title": false,
   "title_cell": "Table of Contents",
   "title_sidebar": "Contents",
   "toc_cell": false,
   "toc_position": {},
   "toc_section_display": true,
   "toc_window_display": false
  }
 },
 "nbformat": 4,
 "nbformat_minor": 2
}
