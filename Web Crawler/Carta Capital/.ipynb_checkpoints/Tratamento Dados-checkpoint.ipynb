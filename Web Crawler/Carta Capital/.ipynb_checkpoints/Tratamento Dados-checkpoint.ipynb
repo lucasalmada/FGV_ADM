{
 "cells": [
  {
   "cell_type": "code",
   "execution_count": 1,
   "metadata": {},
   "outputs": [],
   "source": [
    "import pandas as pd\n",
    "import datetime as dt"
   ]
  },
  {
   "cell_type": "code",
   "execution_count": null,
   "metadata": {},
   "outputs": [],
   "source": [
    "###Trata"
   ]
  },
  {
   "cell_type": "code",
   "execution_count": 2,
   "metadata": {},
   "outputs": [],
   "source": [
    "df_data = pd.read_hdf('Carta_Capital_1000pag.hdf', key = 'hdf')"
   ]
  },
  {
   "cell_type": "code",
   "execution_count": 37,
   "metadata": {},
   "outputs": [],
   "source": [
    "df = df_data.copy()\n",
    "df.columns = ['Data','Titulo','Texto']"
   ]
  },
  {
   "cell_type": "code",
   "execution_count": 38,
   "metadata": {},
   "outputs": [],
   "source": [
    "def data_transform(data):\n",
    "    dict_data = {\n",
    "    'JAN': '01',\n",
    "    'FEV': '02',\n",
    "    'MAR': '03',\n",
    "    'ABR': '04',\n",
    "    'MAIO': '05',\n",
    "    'JUN': '06',\n",
    "    'JUL': '07',\n",
    "    'AGO': '08',\n",
    "    'SET': '09',\n",
    "    'OUT': '10',\n",
    "    'NOV': '11',\n",
    "    'DEZ': '12'\n",
    "}\n",
    "    \n",
    "    data = data.split()\n",
    "    data[1] = dict_data[data[1]]\n",
    "    data = '/'.join(data)\n",
    "    return dt.datetime.strptime(data,'%d/%m/%Y')"
   ]
  },
  {
   "cell_type": "code",
   "execution_count": 40,
   "metadata": {},
   "outputs": [],
   "source": [
    "df[\"Data\"] = df[\"Data\"].apply(data_transform)\n"
   ]
  },
  {
   "cell_type": "code",
   "execution_count": 41,
   "metadata": {},
   "outputs": [
    {
     "data": {
      "text/html": [
       "<div>\n",
       "<style scoped>\n",
       "    .dataframe tbody tr th:only-of-type {\n",
       "        vertical-align: middle;\n",
       "    }\n",
       "\n",
       "    .dataframe tbody tr th {\n",
       "        vertical-align: top;\n",
       "    }\n",
       "\n",
       "    .dataframe thead th {\n",
       "        text-align: right;\n",
       "    }\n",
       "</style>\n",
       "<table border=\"1\" class=\"dataframe\">\n",
       "  <thead>\n",
       "    <tr style=\"text-align: right;\">\n",
       "      <th></th>\n",
       "      <th>Data</th>\n",
       "      <th>Titulo</th>\n",
       "      <th>Texto</th>\n",
       "    </tr>\n",
       "  </thead>\n",
       "  <tbody>\n",
       "    <tr>\n",
       "      <th>0</th>\n",
       "      <td>2019-10-11</td>\n",
       "      <td>Bonecas negras ressaltam importância da divers...</td>\n",
       "      <td>[, , Lembrou-se da infância, em que os desenho...</td>\n",
       "    </tr>\n",
       "    <tr>\n",
       "      <th>1</th>\n",
       "      <td>2019-09-03</td>\n",
       "      <td>“Bolsonaro não esconde o objetivo de destruir ...</td>\n",
       "      <td>[, , , , CartaCapital: Como o avanço das queim...</td>\n",
       "    </tr>\n",
       "    <tr>\n",
       "      <th>2</th>\n",
       "      <td>2019-08-19</td>\n",
       "      <td>Damares publica decreto que extingue comitês d...</td>\n",
       "      <td>[, , O ministério informou que o decreto publi...</td>\n",
       "    </tr>\n",
       "    <tr>\n",
       "      <th>3</th>\n",
       "      <td>2019-04-12</td>\n",
       "      <td>Especialistas avaliam fim de secretaria ligada...</td>\n",
       "      <td>[Por Júlia Daher, Tão logo assumiu o Ministéri...</td>\n",
       "    </tr>\n",
       "    <tr>\n",
       "      <th>4</th>\n",
       "      <td>2019-03-28</td>\n",
       "      <td>Diversidade é “palavra da vez” e gera até cons...</td>\n",
       "      <td>[, A questão que fica é: se vivemos em um mund...</td>\n",
       "    </tr>\n",
       "  </tbody>\n",
       "</table>\n",
       "</div>"
      ],
      "text/plain": [
       "        Data                                             Titulo  \\\n",
       "0 2019-10-11  Bonecas negras ressaltam importância da divers...   \n",
       "1 2019-09-03  “Bolsonaro não esconde o objetivo de destruir ...   \n",
       "2 2019-08-19  Damares publica decreto que extingue comitês d...   \n",
       "3 2019-04-12  Especialistas avaliam fim de secretaria ligada...   \n",
       "4 2019-03-28  Diversidade é “palavra da vez” e gera até cons...   \n",
       "\n",
       "                                               Texto  \n",
       "0  [, , Lembrou-se da infância, em que os desenho...  \n",
       "1  [, , , , CartaCapital: Como o avanço das queim...  \n",
       "2  [, , O ministério informou que o decreto publi...  \n",
       "3  [Por Júlia Daher, Tão logo assumiu o Ministéri...  \n",
       "4  [, A questão que fica é: se vivemos em um mund...  "
      ]
     },
     "execution_count": 41,
     "metadata": {},
     "output_type": "execute_result"
    }
   ],
   "source": [
    "df.head()"
   ]
  },
  {
   "cell_type": "code",
   "execution_count": 45,
   "metadata": {},
   "outputs": [],
   "source": [
    "df = df.sort_values(by='Data',ascending=False).reset_index(drop = True)"
   ]
  },
  {
   "cell_type": "code",
   "execution_count": 50,
   "metadata": {},
   "outputs": [],
   "source": [
    "df = df.drop_duplicates(subset=['Titulo'], keep=False)"
   ]
  },
  {
   "cell_type": "code",
   "execution_count": null,
   "metadata": {},
   "outputs": [],
   "source": []
  }
 ],
 "metadata": {
  "kernelspec": {
   "display_name": "Python 3",
   "language": "python",
   "name": "python3"
  },
  "language_info": {
   "codemirror_mode": {
    "name": "ipython",
    "version": 3
   },
   "file_extension": ".py",
   "mimetype": "text/x-python",
   "name": "python",
   "nbconvert_exporter": "python",
   "pygments_lexer": "ipython3",
   "version": "3.7.3"
  }
 },
 "nbformat": 4,
 "nbformat_minor": 2
}
